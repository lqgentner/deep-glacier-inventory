{
 "cells": [
  {
   "cell_type": "markdown",
   "id": "c4e807e6",
   "metadata": {},
   "source": [
    "# Download of Glacier Inventories\n",
    "\n",
    "WIP..."
   ]
  }
 ],
 "metadata": {
  "language_info": {
   "name": "python"
  }
 },
 "nbformat": 4,
 "nbformat_minor": 5
}
