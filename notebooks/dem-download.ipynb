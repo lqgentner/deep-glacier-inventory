{
 "cells": [
  {
   "cell_type": "markdown",
   "id": "8a4419b7",
   "metadata": {},
   "source": [
    "# DEM Download"
   ]
  },
  {
   "cell_type": "code",
   "execution_count": 2,
   "id": "d7c6c970",
   "metadata": {},
   "outputs": [],
   "source": [
    "import os\n",
    "from pathlib import Path\n",
    "import matplotlib.pyplot as plt\n",
    "import requests\n",
    "from dotenv import load_dotenv\n",
    "from tqdm.auto import tqdm\n",
    "\n",
    "from deepfreezer.utils import ROOT_DIR\n",
    "\n",
    "# Load environment variables from .env file\n",
    "load_dotenv()\n",
    "\n",
    "%config InlineBackend.figure_format = 'retina'\n",
    "plt.rcParams[\"figure.constrained_layout.use\"] = True\n",
    "\n",
    "DOWNLOAD = False\n",
    "EXTRACT = False\n",
    "REPROJECT = False"
   ]
  },
  {
   "cell_type": "code",
   "execution_count": 3,
   "id": "469f3e06",
   "metadata": {},
   "outputs": [],
   "source": [
    "def urls_from_file(path: str | Path) -> list[str]:\n",
    "    with open(path) as file:\n",
    "        return [line.replace(\"\\n\", \"\") for line in file]"
   ]
  },
  {
   "cell_type": "code",
   "execution_count": 4,
   "id": "44098c4e",
   "metadata": {},
   "outputs": [],
   "source": [
    "def download_file(url: str, path: str | Path, **requests_kwargs) -> None:\n",
    "    # path = Path(path)\n",
    "    # Make the request and get the response\n",
    "    response = requests.get(url, stream=True, **requests_kwargs)\n",
    "    # Get file size from headers (in bytes)\n",
    "    total_size = int(response.headers.get(\"content-length\", 0))\n",
    "\n",
    "    # Initialize progress bar\n",
    "    pbar = tqdm(\n",
    "        total=total_size,\n",
    "        unit=\"B\",\n",
    "        unit_scale=True,\n",
    "        unit_divisor=1024,\n",
    "        desc=f\"Downloading {path.name}\",\n",
    "        leave=False,\n",
    "    )\n",
    "\n",
    "    # Open file for writing in binary mode\n",
    "    with open(path, \"wb\") as f:\n",
    "        for chunk in response.iter_content(chunk_size=1024):\n",
    "            # filter out keep-alive chunks\n",
    "            if chunk:\n",
    "                size = f.write(chunk)\n",
    "                pbar.update(size)\n",
    "    pbar.close()\n"
   ]
  },
  {
   "cell_type": "code",
   "execution_count": 5,
   "id": "c4ed4fd4",
   "metadata": {},
   "outputs": [],
   "source": [
    "def download_files(path: str | Path, **requests_kwargs) -> None:\n",
    "    for url in tqdm(urls_from_file(path), unit=\"File\", desc=\"Total progress\"):\n",
    "        file_name = url.split(\"/\")[-1]\n",
    "        file_path = edm_dir / file_name\n",
    "        download_file(url, file_path, **requests_kwargs)\n",
    "    print(\"Download completed.\")\n"
   ]
  },
  {
   "cell_type": "code",
   "execution_count": 6,
   "id": "cd6fd641",
   "metadata": {},
   "outputs": [],
   "source": [
    "# Get EOC Geoservice Authentification\n",
    "pwd = os.environ.get(\"EOC_GEO_PWD\")\n",
    "usr = os.environ.get(\"EOC_GEO_USR\")\n",
    "\n",
    "edm_dir = ROOT_DIR / \"data/raw/TDM30_EDM\"\n",
    "edm_url_file = edm_dir / \"TDM30_EDEM-url-list.txt\"\n",
    "\n",
    "# Download TDM30 EDM Tiles\n",
    "if DOWNLOAD:\n",
    "    download_files(edm_url_file, auth=(usr, pwd))"
   ]
  },
  {
   "cell_type": "code",
   "execution_count": 7,
   "id": "dd4a8706",
   "metadata": {},
   "outputs": [],
   "source": [
    "import zipfile\n",
    "\n",
    "# Unzip files\n",
    "if EXTRACT:\n",
    "    for zip_file in edm_dir.glob(\"*.zip\"):\n",
    "        with zipfile.ZipFile(zip_file, \"r\") as zip_ref:\n",
    "            zip_ref.extractall(edm_dir)\n",
    "        print(f\"Extracted: {zip_file.name}\")"
   ]
  },
  {
   "cell_type": "code",
   "execution_count": 8,
   "id": "308de331",
   "metadata": {},
   "outputs": [
    {
     "name": "stdout",
     "output_type": "stream",
     "text": [
      "Copied: TDM1_EDEM_10_N45E008_EDEM_W84.tif to /Users/lgentn/Repositories/glaciermap/data/raw/TDM30_EDM/EDEM_EPSG4979_GeoTIFF\n",
      "Copied: TDM1_EDEM_10_N45E011_EDEM_W84.tif to /Users/lgentn/Repositories/glaciermap/data/raw/TDM30_EDM/EDEM_EPSG4979_GeoTIFF\n",
      "Copied: TDM1_EDEM_10_N46E006_EDEM_W84.tif to /Users/lgentn/Repositories/glaciermap/data/raw/TDM30_EDM/EDEM_EPSG4979_GeoTIFF\n",
      "Copied: TDM1_EDEM_10_N45E009_EDEM_W84.tif to /Users/lgentn/Repositories/glaciermap/data/raw/TDM30_EDM/EDEM_EPSG4979_GeoTIFF\n",
      "Copied: TDM1_EDEM_10_N45E010_EDEM_W84.tif to /Users/lgentn/Repositories/glaciermap/data/raw/TDM30_EDM/EDEM_EPSG4979_GeoTIFF\n",
      "Copied: TDM1_EDEM_10_N45E012_EDEM_W84.tif to /Users/lgentn/Repositories/glaciermap/data/raw/TDM30_EDM/EDEM_EPSG4979_GeoTIFF\n",
      "Copied: TDM1_EDEM_10_N46E007_EDEM_W84.tif to /Users/lgentn/Repositories/glaciermap/data/raw/TDM30_EDM/EDEM_EPSG4979_GeoTIFF\n",
      "Copied: TDM1_EDEM_10_N46E005_EDEM_W84.tif to /Users/lgentn/Repositories/glaciermap/data/raw/TDM30_EDM/EDEM_EPSG4979_GeoTIFF\n",
      "Copied: TDM1_EDEM_10_N46E010_EDEM_W84.tif to /Users/lgentn/Repositories/glaciermap/data/raw/TDM30_EDM/EDEM_EPSG4979_GeoTIFF\n",
      "Copied: TDM1_EDEM_10_N47E013_EDEM_W84.tif to /Users/lgentn/Repositories/glaciermap/data/raw/TDM30_EDM/EDEM_EPSG4979_GeoTIFF\n",
      "Copied: TDM1_EDEM_10_N43E007_EDEM_W84.tif to /Users/lgentn/Repositories/glaciermap/data/raw/TDM30_EDM/EDEM_EPSG4979_GeoTIFF\n",
      "Copied: TDM1_EDEM_10_N46E009_EDEM_W84.tif to /Users/lgentn/Repositories/glaciermap/data/raw/TDM30_EDM/EDEM_EPSG4979_GeoTIFF\n",
      "Copied: TDM1_EDEM_10_N47E011_EDEM_W84.tif to /Users/lgentn/Repositories/glaciermap/data/raw/TDM30_EDM/EDEM_EPSG4979_GeoTIFF\n",
      "Copied: TDM1_EDEM_10_N43E005_EDEM_W84.tif to /Users/lgentn/Repositories/glaciermap/data/raw/TDM30_EDM/EDEM_EPSG4979_GeoTIFF\n",
      "Copied: TDM1_EDEM_10_N46E012_EDEM_W84.tif to /Users/lgentn/Repositories/glaciermap/data/raw/TDM30_EDM/EDEM_EPSG4979_GeoTIFF\n",
      "Copied: TDM1_EDEM_10_N47E008_EDEM_W84.tif to /Users/lgentn/Repositories/glaciermap/data/raw/TDM30_EDM/EDEM_EPSG4979_GeoTIFF\n",
      "Copied: TDM1_EDEM_10_N45E007_EDEM_W84.tif to /Users/lgentn/Repositories/glaciermap/data/raw/TDM30_EDM/EDEM_EPSG4979_GeoTIFF\n",
      "Copied: TDM1_EDEM_10_N47E015_EDEM_W84.tif to /Users/lgentn/Repositories/glaciermap/data/raw/TDM30_EDM/EDEM_EPSG4979_GeoTIFF\n",
      "Copied: TDM1_EDEM_10_N44E006_EDEM_W84.tif to /Users/lgentn/Repositories/glaciermap/data/raw/TDM30_EDM/EDEM_EPSG4979_GeoTIFF\n",
      "Copied: TDM1_EDEM_10_N46E014_EDEM_W84.tif to /Users/lgentn/Repositories/glaciermap/data/raw/TDM30_EDM/EDEM_EPSG4979_GeoTIFF\n",
      "Copied: TDM1_EDEM_10_N45E005_EDEM_W84.tif to /Users/lgentn/Repositories/glaciermap/data/raw/TDM30_EDM/EDEM_EPSG4979_GeoTIFF\n",
      "Copied: TDM1_EDEM_10_N47E010_EDEM_W84.tif to /Users/lgentn/Repositories/glaciermap/data/raw/TDM30_EDM/EDEM_EPSG4979_GeoTIFF\n",
      "Copied: TDM1_EDEM_10_N47E009_EDEM_W84.tif to /Users/lgentn/Repositories/glaciermap/data/raw/TDM30_EDM/EDEM_EPSG4979_GeoTIFF\n",
      "Copied: TDM1_EDEM_10_N46E013_EDEM_W84.tif to /Users/lgentn/Repositories/glaciermap/data/raw/TDM30_EDM/EDEM_EPSG4979_GeoTIFF\n",
      "Copied: TDM1_EDEM_10_N46E011_EDEM_W84.tif to /Users/lgentn/Repositories/glaciermap/data/raw/TDM30_EDM/EDEM_EPSG4979_GeoTIFF\n",
      "Copied: TDM1_EDEM_10_N46E008_EDEM_W84.tif to /Users/lgentn/Repositories/glaciermap/data/raw/TDM30_EDM/EDEM_EPSG4979_GeoTIFF\n",
      "Copied: TDM1_EDEM_10_N43E006_EDEM_W84.tif to /Users/lgentn/Repositories/glaciermap/data/raw/TDM30_EDM/EDEM_EPSG4979_GeoTIFF\n",
      "Copied: TDM1_EDEM_10_N47E012_EDEM_W84.tif to /Users/lgentn/Repositories/glaciermap/data/raw/TDM30_EDM/EDEM_EPSG4979_GeoTIFF\n",
      "Copied: TDM1_EDEM_10_N44E007_EDEM_W84.tif to /Users/lgentn/Repositories/glaciermap/data/raw/TDM30_EDM/EDEM_EPSG4979_GeoTIFF\n",
      "Copied: TDM1_EDEM_10_N45E006_EDEM_W84.tif to /Users/lgentn/Repositories/glaciermap/data/raw/TDM30_EDM/EDEM_EPSG4979_GeoTIFF\n",
      "Copied: TDM1_EDEM_10_N44E005_EDEM_W84.tif to /Users/lgentn/Repositories/glaciermap/data/raw/TDM30_EDM/EDEM_EPSG4979_GeoTIFF\n",
      "Copied: TDM1_EDEM_10_N47E014_EDEM_W84.tif to /Users/lgentn/Repositories/glaciermap/data/raw/TDM30_EDM/EDEM_EPSG4979_GeoTIFF\n"
     ]
    }
   ],
   "source": [
    "# Create the edm_tiffs directory if it doesn't exist\n",
    "edm_tiffs_dir = edm_dir / \"EDEM_EPSG4979_GeoTIFF\"\n",
    "edm_tiffs_dir.mkdir(exist_ok=True)\n",
    "\n",
    "# Iterate through all EDEM folders in edm_dir\n",
    "for folder in edm_dir.glob(\"TDM1_EDEM*/\"):\n",
    "    tif = list((folder / \"EDEM\").glob(\"*_W84.tif\"))\n",
    "    if not len(tif) == 1:\n",
    "        raise ValueError(\n",
    "            f\"Multiple TIFF files found in {folder / 'EDEM'}, but only one was expected.\"\n",
    "        )\n",
    "    else:\n",
    "        tif = tif[0]\n",
    "    # Copy TIFF files to edm_tiffs directory\n",
    "    destination = edm_tiffs_dir / tif.name\n",
    "    destination.write_bytes(tif.read_bytes())\n",
    "    print(f\"Copied: {tif.name} to {edm_tiffs_dir}\")\n"
   ]
  },
  {
   "cell_type": "markdown",
   "id": "91ce4a60",
   "metadata": {},
   "source": [
    "Reproject all GeoTIFFs from EPSG:4979 to EPSG:4326"
   ]
  },
  {
   "cell_type": "code",
   "execution_count": 9,
   "id": "0d727486",
   "metadata": {},
   "outputs": [],
   "source": [
    "import rasterio\n",
    "from rasterio.warp import calculate_default_transform, reproject, Resampling\n",
    "\n",
    "\n",
    "def warp_geotiff(input_path, output_path, dst_crs):\n",
    "    with rasterio.open(input_path) as src:\n",
    "        transform, width, height = calculate_default_transform(\n",
    "            src.crs, dst_crs, src.width, src.height, *src.bounds\n",
    "        )\n",
    "        kwargs = src.meta.copy()\n",
    "        kwargs.update(\n",
    "            {\"crs\": dst_crs, \"transform\": transform, \"width\": width, \"height\": height}\n",
    "        )\n",
    "\n",
    "        with rasterio.open(output_path, \"w\", **kwargs) as dst:\n",
    "            for i in range(1, src.count + 1):\n",
    "                reproject(\n",
    "                    source=rasterio.band(src, i),\n",
    "                    destination=rasterio.band(dst, i),\n",
    "                    src_transform=src.transform,\n",
    "                    src_crs=src.crs,\n",
    "                    dst_transform=transform,\n",
    "                    dst_crs=dst_crs,\n",
    "                    resampling=Resampling.nearest,\n",
    "                )\n"
   ]
  },
  {
   "cell_type": "code",
   "execution_count": 10,
   "id": "12f1092d",
   "metadata": {},
   "outputs": [],
   "source": [
    "src_files = list(edm_tiffs_dir.glob(\"*_W84.tif\"))\n",
    "warped_dir = ROOT_DIR / \"data/raw/TDM30_EDM/EDEM_EPSG4326_GeoTIFF\"\n",
    "warped_dir.mkdir(exist_ok=True)\n",
    "\n",
    "if REPROJECT:\n",
    "    for src_file in tqdm(src_files):\n",
    "        dst_file = warped_dir / src_file.name\n",
    "        warp_geotiff(src_file, dst_file, \"EPSG:4326\")"
   ]
  }
 ],
 "metadata": {
  "kernelspec": {
   "display_name": ".venv",
   "language": "python",
   "name": "python3"
  },
  "language_info": {
   "codemirror_mode": {
    "name": "ipython",
    "version": 3
   },
   "file_extension": ".py",
   "mimetype": "text/x-python",
   "name": "python",
   "nbconvert_exporter": "python",
   "pygments_lexer": "ipython3",
   "version": "3.13.2"
  }
 },
 "nbformat": 4,
 "nbformat_minor": 5
}
