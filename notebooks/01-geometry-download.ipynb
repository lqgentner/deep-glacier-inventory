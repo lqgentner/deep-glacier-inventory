{
 "cells": [
  {
   "cell_type": "markdown",
   "id": "c4e807e6",
   "metadata": {},
   "source": [
    "# Download of Geometries\n",
    "\n",
    "Download glacier and country shapes"
   ]
  },
  {
   "cell_type": "code",
   "execution_count": 1,
   "id": "10301b45",
   "metadata": {},
   "outputs": [],
   "source": [
    "from dotenv import load_dotenv\n",
    "\n",
    "from deepfreezer.utils import ROOT_DIR, download_file, extract_zip"
   ]
  },
  {
   "cell_type": "code",
   "execution_count": null,
   "id": "eae7d200",
   "metadata": {},
   "outputs": [],
   "source": [
    "# Load credentials\n",
    "load_dotenv()\n",
    "\n",
    "# Perform download flag\n",
    "DOWNLOAD = True"
   ]
  },
  {
   "cell_type": "markdown",
   "id": "32fa63a4",
   "metadata": {},
   "source": [
    "## Randolph Glacier Inventory 7.0\n",
    "\n",
    "[Data Description](https://www.glims.org/rgi_user_guide/03_data_decription.html)"
   ]
  },
  {
   "cell_type": "code",
   "execution_count": 18,
   "id": "97d8425c",
   "metadata": {},
   "outputs": [
    {
     "name": "stderr",
     "output_type": "stream",
     "text": [
      "README.txt                    : 5.80kB [00:00, 16.3MB/s]                   \n",
      "RGI2000-v7.0-regions.zip      : 100%|██████████| 2.22M/2.22M [00:01<00:00, 2.17MB/s]\n",
      "RGI2000-v7.0-L-global.zip     : 100%|██████████| 237M/237M [01:19<00:00, 3.12MB/s] \n"
     ]
    }
   ],
   "source": [
    "dl_dir = ROOT_DIR / \"data/raw/rgi_v7\"\n",
    "\n",
    "base_url = \"https://daacdata.apps.nsidc.org/pub/DATASETS/nsidc0770_rgi_v7/\"\n",
    "\n",
    "files = [\n",
    "    \"README.txt\",\n",
    "    \"RGI2000-v7.0-regions.zip\",\n",
    "    # Glacier product\n",
    "    \"global_files/RGI2000-v7.0-G-global.zip\",\n",
    "    # Glacier complex product\n",
    "    \"global_files/RGI2000-v7.0-C-global.zip\",\n",
    "    # Intersects product\n",
    "    \"global_files/RGI2000-v7.0-I-global.zip\",\n",
    "    # Centerlines Product\n",
    "    \"global_files/RGI2000-v7.0-L-global.zip\",\n",
    "]\n",
    "\n",
    "if DOWNLOAD:\n",
    "    for file in files:\n",
    "        url = base_url + file\n",
    "        filepath = download_file(url, dl_dir)\n",
    "        if filepath.suffix == \".zip\":\n",
    "            extract_zip(filepath)\n"
   ]
  },
  {
   "cell_type": "markdown",
   "id": "fdc7ab51",
   "metadata": {},
   "source": [
    "## Swiss Glacier Inventory 2016\n",
    "\n",
    "[Link to website](https://www.glamos.ch/en/downloads#inventories/A51e-12)"
   ]
  },
  {
   "cell_type": "code",
   "execution_count": null,
   "id": "5e56a981",
   "metadata": {},
   "outputs": [
    {
     "name": "stderr",
     "output_type": "stream",
     "text": [
      "inventory_sgi2016_r2020.zip   : 100%|██████████| 9.33M/9.33M [00:00<00:00, 28.8MB/s]\n"
     ]
    },
    {
     "data": {
      "text/plain": [
       "PosixPath('/Users/lgentn/Repositories/deep-glacier-inventory/data/raw/sgi2016/inventory_sgi2016_r2020')"
      ]
     },
     "execution_count": 6,
     "metadata": {},
     "output_type": "execute_result"
    }
   ],
   "source": [
    "url = \"https://doi.glamos.ch/data/inventory/inventory_sgi2016_r2020.zip\"\n",
    "dl_dir = ROOT_DIR / \"data/raw/sgi2016\"\n",
    "\n",
    "if DOWNLOAD:\n",
    "    filepath = download_file(url, dl_dir)\n",
    "    extract_zip(filepath)"
   ]
  },
  {
   "cell_type": "markdown",
   "id": "8a26ce12",
   "metadata": {},
   "source": [
    "## NaturalEarth Admin 0 – Countries\n",
    "\n",
    "[Description](https://www.naturalearthdata.com/downloads/50m-cultural-vectors/50m-admin-0-countries-2/)"
   ]
  },
  {
   "cell_type": "code",
   "execution_count": null,
   "id": "864cad97",
   "metadata": {},
   "outputs": [
    {
     "name": "stderr",
     "output_type": "stream",
     "text": [
      "ne_50m_admin_0_countries.zip  : 100%|██████████| 781k/781k [00:00<00:00, 17.3MB/s]\n"
     ]
    },
    {
     "data": {
      "text/plain": [
       "PosixPath('/Users/lgentn/Repositories/deep-glacier-inventory/data/raw/naturalearth/ne_50m_admin_0_countries')"
      ]
     },
     "execution_count": 15,
     "metadata": {},
     "output_type": "execute_result"
    }
   ],
   "source": [
    "url = \"https://naciscdn.org/naturalearth/50m/cultural/ne_50m_admin_0_countries.zip\"\n",
    "dl_dir = ROOT_DIR / \"data/raw/naturalearth\"\n",
    "\n",
    "if DOWNLOAD:\n",
    "    filepath = download_file(url, dl_dir)\n",
    "    extract_zip(filepath)\n"
   ]
  }
 ],
 "metadata": {
  "kernelspec": {
   "display_name": ".venv",
   "language": "python",
   "name": "python3"
  },
  "language_info": {
   "codemirror_mode": {
    "name": "ipython",
    "version": 3
   },
   "file_extension": ".py",
   "mimetype": "text/x-python",
   "name": "python",
   "nbconvert_exporter": "python",
   "pygments_lexer": "ipython3",
   "version": "3.13.2"
  }
 },
 "nbformat": 4,
 "nbformat_minor": 5
}
