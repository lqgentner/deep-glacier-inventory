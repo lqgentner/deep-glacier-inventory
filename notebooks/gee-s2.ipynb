{
 "cells": [
  {
   "cell_type": "markdown",
   "id": "2303cc26",
   "metadata": {},
   "source": [
    "# Sentinel-2 Composite Generation\n",
    "\n",
    "Generate a image composite with Google Earth Engine and Cloud Score+"
   ]
  },
  {
   "cell_type": "code",
   "execution_count": 1,
   "id": "70b5d84b",
   "metadata": {},
   "outputs": [],
   "source": [
    "import ee\n",
    "import geemap\n",
    "import geopandas\n",
    "from deepfreezer.utils import ROOT_DIR\n",
    "\n",
    "from typing import Literal"
   ]
  },
  {
   "cell_type": "code",
   "execution_count": 2,
   "id": "185dd21f",
   "metadata": {},
   "outputs": [
    {
     "data": {
      "text/html": [
       "\n",
       "            <style>\n",
       "                .geemap-dark {\n",
       "                    --jp-widgets-color: white;\n",
       "                    --jp-widgets-label-color: white;\n",
       "                    --jp-ui-font-color1: white;\n",
       "                    --jp-layout-color2: #454545;\n",
       "                    background-color: #383838;\n",
       "                }\n",
       "\n",
       "                .geemap-dark .jupyter-button {\n",
       "                    --jp-layout-color3: #383838;\n",
       "                }\n",
       "\n",
       "                .geemap-colab {\n",
       "                    background-color: var(--colab-primary-surface-color, white);\n",
       "                }\n",
       "\n",
       "                .geemap-colab .jupyter-button {\n",
       "                    --jp-layout-color3: var(--colab-primary-surface-color, white);\n",
       "                }\n",
       "            </style>\n",
       "            "
      ],
      "text/plain": [
       "<IPython.core.display.HTML object>"
      ]
     },
     "metadata": {},
     "output_type": "display_data"
    }
   ],
   "source": [
    "ee.Initialize(project=\"lqg-global-glaciers\")"
   ]
  },
  {
   "cell_type": "code",
   "execution_count": 3,
   "id": "5061cc75",
   "metadata": {},
   "outputs": [
    {
     "data": {
      "text/html": [
       "\n",
       "            <style>\n",
       "                .geemap-dark {\n",
       "                    --jp-widgets-color: white;\n",
       "                    --jp-widgets-label-color: white;\n",
       "                    --jp-ui-font-color1: white;\n",
       "                    --jp-layout-color2: #454545;\n",
       "                    background-color: #383838;\n",
       "                }\n",
       "\n",
       "                .geemap-dark .jupyter-button {\n",
       "                    --jp-layout-color3: #383838;\n",
       "                }\n",
       "\n",
       "                .geemap-colab {\n",
       "                    background-color: var(--colab-primary-surface-color, white);\n",
       "                }\n",
       "\n",
       "                .geemap-colab .jupyter-button {\n",
       "                    --jp-layout-color3: var(--colab-primary-surface-color, white);\n",
       "                }\n",
       "            </style>\n",
       "            "
      ],
      "text/plain": [
       "<IPython.core.display.HTML object>"
      ]
     },
     "metadata": {},
     "output_type": "display_data"
    }
   ],
   "source": [
    "def create_composite_cs(\n",
    "    image_col: ee.ImageCollection,\n",
    "    qa_band: Literal[\"cs\", \"cs_cdf\"] = \"cs_cdf\",\n",
    "    threshold: float = 0.6,\n",
    ") -> ee.Image:\n",
    "    \"\"\"Create a Sentinel-2 composite image using the Google Cloud Score+\"\"\"\n",
    "    csp = ee.ImageCollection(\"GOOGLE/CLOUD_SCORE_PLUS/V1/S2_HARMONIZED\")\n",
    "\n",
    "    return (\n",
    "        image_col.linkCollection(csp, [qa_band])\n",
    "        .map(lambda img: img.updateMask(img.select(qa_band).gte(threshold)))\n",
    "        .median()\n",
    "    )\n"
   ]
  },
  {
   "cell_type": "code",
   "execution_count": 4,
   "id": "582625e1",
   "metadata": {},
   "outputs": [
    {
     "data": {
      "text/html": [
       "\n",
       "            <style>\n",
       "                .geemap-dark {\n",
       "                    --jp-widgets-color: white;\n",
       "                    --jp-widgets-label-color: white;\n",
       "                    --jp-ui-font-color1: white;\n",
       "                    --jp-layout-color2: #454545;\n",
       "                    background-color: #383838;\n",
       "                }\n",
       "\n",
       "                .geemap-dark .jupyter-button {\n",
       "                    --jp-layout-color3: #383838;\n",
       "                }\n",
       "\n",
       "                .geemap-colab {\n",
       "                    background-color: var(--colab-primary-surface-color, white);\n",
       "                }\n",
       "\n",
       "                .geemap-colab .jupyter-button {\n",
       "                    --jp-layout-color3: var(--colab-primary-surface-color, white);\n",
       "                }\n",
       "            </style>\n",
       "            "
      ],
      "text/plain": [
       "<IPython.core.display.HTML object>"
      ]
     },
     "metadata": {},
     "output_type": "display_data"
    }
   ],
   "source": [
    "def mask_clouds_qa(image: ee.Image) -> ee.Image:\n",
    "    \"\"\"Masks clouds in a Sentinel-2 image using the QA band.\n",
    "\n",
    "    Args:\n",
    "        image (ee.Image): A Sentinel-2 image.\n",
    "\n",
    "    Returns:\n",
    "        ee.Image: A cloud-masked Sentinel-2 image.\n",
    "    \"\"\"\n",
    "    qa = image.select(\"QA60\")\n",
    "\n",
    "    # Bits 10 and 11 are clouds and cirrus, respectively.\n",
    "    cloud_bit_mask = 1 << 10\n",
    "    cirrus_bit_mask = 1 << 11\n",
    "\n",
    "    # Both flags should be set to zero, indicating clear conditions.\n",
    "    mask = qa.bitwiseAnd(cloud_bit_mask).eq(0).And(qa.bitwiseAnd(cirrus_bit_mask).eq(0))\n",
    "\n",
    "    return image.updateMask(mask)\n",
    "\n",
    "\n",
    "def create_composite_qa(image_col: ee.ImageCollection) -> ee.Image:\n",
    "    # Pre-filter to get less cloudy granules.\n",
    "    return (\n",
    "        image_col.filter(ee.Filter.lt(\"CLOUDY_PIXEL_PERCENTAGE\", 20))\n",
    "        .map(mask_clouds_qa)\n",
    "        .median()\n",
    "    )"
   ]
  },
  {
   "cell_type": "code",
   "execution_count": 5,
   "id": "92b9b832",
   "metadata": {},
   "outputs": [
    {
     "data": {
      "text/html": [
       "\n",
       "            <style>\n",
       "                .geemap-dark {\n",
       "                    --jp-widgets-color: white;\n",
       "                    --jp-widgets-label-color: white;\n",
       "                    --jp-ui-font-color1: white;\n",
       "                    --jp-layout-color2: #454545;\n",
       "                    background-color: #383838;\n",
       "                }\n",
       "\n",
       "                .geemap-dark .jupyter-button {\n",
       "                    --jp-layout-color3: #383838;\n",
       "                }\n",
       "\n",
       "                .geemap-colab {\n",
       "                    background-color: var(--colab-primary-surface-color, white);\n",
       "                }\n",
       "\n",
       "                .geemap-colab .jupyter-button {\n",
       "                    --jp-layout-color3: var(--colab-primary-surface-color, white);\n",
       "                }\n",
       "            </style>\n",
       "            "
      ],
      "text/plain": [
       "<IPython.core.display.HTML object>"
      ]
     },
     "metadata": {},
     "output_type": "display_data"
    }
   ],
   "source": [
    "s2 = ee.ImageCollection(\"COPERNICUS/S2_HARMONIZED\")\n",
    "\n",
    "QA_BAND = \"cs_cdf\"\n",
    "CLEAR_THRESHOLD = 0.5"
   ]
  },
  {
   "cell_type": "code",
   "execution_count": 6,
   "id": "a8ecd5e1",
   "metadata": {},
   "outputs": [
    {
     "data": {
      "text/html": [
       "\n",
       "            <style>\n",
       "                .geemap-dark {\n",
       "                    --jp-widgets-color: white;\n",
       "                    --jp-widgets-label-color: white;\n",
       "                    --jp-ui-font-color1: white;\n",
       "                    --jp-layout-color2: #454545;\n",
       "                    background-color: #383838;\n",
       "                }\n",
       "\n",
       "                .geemap-dark .jupyter-button {\n",
       "                    --jp-layout-color3: #383838;\n",
       "                }\n",
       "\n",
       "                .geemap-colab {\n",
       "                    background-color: var(--colab-primary-surface-color, white);\n",
       "                }\n",
       "\n",
       "                .geemap-colab .jupyter-button {\n",
       "                    --jp-layout-color3: var(--colab-primary-surface-color, white);\n",
       "                }\n",
       "            </style>\n",
       "            "
      ],
      "text/plain": [
       "<IPython.core.display.HTML object>"
      ]
     },
     "metadata": {},
     "output_type": "display_data"
    },
    {
     "data": {
      "text/plain": [
       "array([ 6.82208749, 45.86092842, 10.41511278, 47.25128772])"
      ]
     },
     "execution_count": 6,
     "metadata": {},
     "output_type": "execute_result"
    }
   ],
   "source": [
    "# Import SGI\n",
    "sgi = geopandas.read_file(\n",
    "    ROOT_DIR / \"data/raw/inventory_sgi2016_r2020/SGI_2016_glaciers.shp\"\n",
    ")\n",
    "\n",
    "# Clean file\n",
    "sgi = sgi.drop(columns=\"pk_glacier\")\n",
    "sgi.gid = sgi.gid.astype(int)\n",
    "sgi = sgi.set_index(\"gid\", verify_integrity=True).sort_index().to_crs(\"EPSG:4326\")\n",
    "sgi_bounds = sgi.total_bounds\n",
    "sgi_bounds"
   ]
  },
  {
   "cell_type": "code",
   "execution_count": 7,
   "id": "671891a6",
   "metadata": {},
   "outputs": [
    {
     "data": {
      "text/html": [
       "\n",
       "            <style>\n",
       "                .geemap-dark {\n",
       "                    --jp-widgets-color: white;\n",
       "                    --jp-widgets-label-color: white;\n",
       "                    --jp-ui-font-color1: white;\n",
       "                    --jp-layout-color2: #454545;\n",
       "                    background-color: #383838;\n",
       "                }\n",
       "\n",
       "                .geemap-dark .jupyter-button {\n",
       "                    --jp-layout-color3: #383838;\n",
       "                }\n",
       "\n",
       "                .geemap-colab {\n",
       "                    background-color: var(--colab-primary-surface-color, white);\n",
       "                }\n",
       "\n",
       "                .geemap-colab .jupyter-button {\n",
       "                    --jp-layout-color3: var(--colab-primary-surface-color, white);\n",
       "                }\n",
       "            </style>\n",
       "            "
      ],
      "text/plain": [
       "<IPython.core.display.HTML object>"
      ]
     },
     "metadata": {},
     "output_type": "display_data"
    },
    {
     "name": "stderr",
     "output_type": "stream",
     "text": [
      "/Users/lgentn/Repositories/glaciermap/.venv/lib/python3.13/site-packages/IPython/core/formatters.py:406: UserWarning: Getting info failed with: 'Request payload size exceeds the limit: 10485760 bytes.'. Falling back to string repr.\n",
      "  return method()\n"
     ]
    },
    {
     "data": {
      "text/html": [
       "<pre>&lt;ee.featurecollection.FeatureCollection object at 0x12a8dc440&gt;</pre>"
      ],
      "text/plain": [
       "<ee.featurecollection.FeatureCollection at 0x12a8dc440>"
      ]
     },
     "execution_count": 7,
     "metadata": {},
     "output_type": "execute_result"
    }
   ],
   "source": [
    "# Convert GeoDataFrame to FeatureCollection\n",
    "fc_sgi = geemap.geopandas_to_ee(sgi)\n",
    "fc_sgi"
   ]
  },
  {
   "cell_type": "code",
   "execution_count": 8,
   "id": "b6816add",
   "metadata": {},
   "outputs": [
    {
     "data": {
      "text/html": [
       "\n",
       "            <style>\n",
       "                .geemap-dark {\n",
       "                    --jp-widgets-color: white;\n",
       "                    --jp-widgets-label-color: white;\n",
       "                    --jp-ui-font-color1: white;\n",
       "                    --jp-layout-color2: #454545;\n",
       "                    background-color: #383838;\n",
       "                }\n",
       "\n",
       "                .geemap-dark .jupyter-button {\n",
       "                    --jp-layout-color3: #383838;\n",
       "                }\n",
       "\n",
       "                .geemap-colab {\n",
       "                    background-color: var(--colab-primary-surface-color, white);\n",
       "                }\n",
       "\n",
       "                .geemap-colab .jupyter-button {\n",
       "                    --jp-layout-color3: var(--colab-primary-surface-color, white);\n",
       "                }\n",
       "            </style>\n",
       "            "
      ],
      "text/plain": [
       "<IPython.core.display.HTML object>"
      ]
     },
     "metadata": {},
     "output_type": "display_data"
    }
   ],
   "source": [
    "roi = ee.Geometry.Rectangle(*sgi_bounds)"
   ]
  },
  {
   "cell_type": "code",
   "execution_count": 9,
   "id": "474ac7c5",
   "metadata": {},
   "outputs": [
    {
     "data": {
      "text/html": [
       "\n",
       "            <style>\n",
       "                .geemap-dark {\n",
       "                    --jp-widgets-color: white;\n",
       "                    --jp-widgets-label-color: white;\n",
       "                    --jp-ui-font-color1: white;\n",
       "                    --jp-layout-color2: #454545;\n",
       "                    background-color: #383838;\n",
       "                }\n",
       "\n",
       "                .geemap-dark .jupyter-button {\n",
       "                    --jp-layout-color3: #383838;\n",
       "                }\n",
       "\n",
       "                .geemap-colab {\n",
       "                    background-color: var(--colab-primary-surface-color, white);\n",
       "                }\n",
       "\n",
       "                .geemap-colab .jupyter-button {\n",
       "                    --jp-layout-color3: var(--colab-primary-surface-color, white);\n",
       "                }\n",
       "            </style>\n",
       "            "
      ],
      "text/plain": [
       "<IPython.core.display.HTML object>"
      ]
     },
     "metadata": {},
     "output_type": "display_data"
    },
    {
     "data": {
      "application/vnd.jupyter.widget-view+json": {
       "model_id": "c83d667d289b473ab11d607e8f00440a",
       "version_major": 2,
       "version_minor": 0
      },
      "text/plain": [
       "Map(center=[46.567199594409665, 8.618600132009618], controls=(WidgetControl(options=['position', 'transparent_…"
      ]
     },
     "execution_count": 9,
     "metadata": {},
     "output_type": "execute_result"
    }
   ],
   "source": [
    "s2_filtered = s2.filterDate(\"2023-05-01\", \"2023-07-31\").filterBounds(roi)\n",
    "composite_cs = create_composite_cs(\n",
    "    s2_filtered,\n",
    "    qa_band=QA_BAND,\n",
    "    threshold=CLEAR_THRESHOLD,\n",
    ")\n",
    "composite_qa = create_composite_qa(s2_filtered)\n",
    "\n",
    "visualization = {\n",
    "    \"min\": 0,\n",
    "    \"max\": 3000,\n",
    "    \"bands\": [\"B4\", \"B3\", \"B2\"],\n",
    "}\n",
    "\n",
    "m = geemap.Map()\n",
    "m.center_object(roi, 12)\n",
    "m.add_layer(composite_cs, visualization, \"Cloud Score+\")\n",
    "m.add_layer(composite_qa, visualization, \"QA60\")\n",
    "m"
   ]
  }
 ],
 "metadata": {
  "kernelspec": {
   "display_name": ".venv",
   "language": "python",
   "name": "python3"
  },
  "language_info": {
   "codemirror_mode": {
    "name": "ipython",
    "version": 3
   },
   "file_extension": ".py",
   "mimetype": "text/x-python",
   "name": "python",
   "nbconvert_exporter": "python",
   "pygments_lexer": "ipython3",
   "version": "3.13.2"
  }
 },
 "nbformat": 4,
 "nbformat_minor": 5
}
